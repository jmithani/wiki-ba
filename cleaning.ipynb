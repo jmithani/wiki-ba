{
 "cells": [
  {
   "cell_type": "code",
   "execution_count": 19,
   "metadata": {},
   "outputs": [
    {
     "data": {
      "text/plain": [
       "['processed_recs10.csv',\n",
       " 'processed_recs11.csv',\n",
       " 'processed_recs13.csv',\n",
       " 'processed_recs14.csv',\n",
       " 'processed_recs15.csv',\n",
       " 'processed_recs17.csv',\n",
       " 'processed_recs2.csv',\n",
       " 'processed_recs4.csv',\n",
       " 'processed_recs5.csv',\n",
       " 'processed_recs6.csv',\n",
       " 'processed_recs7.csv',\n",
       " 'processed_recs8.csv',\n",
       " 'processed_recs9.csv']"
      ]
     },
     "execution_count": 19,
     "metadata": {},
     "output_type": "execute_result"
    }
   ],
   "source": [
    "import pandas as pd\n",
    "import os\n",
    "\n",
    "files = os.listdir(\"data/processed\")\n",
    "files = files[1:]\n",
    "files\n"
   ]
  },
  {
   "cell_type": "code",
   "execution_count": 20,
   "metadata": {},
   "outputs": [
    {
     "data": {
      "text/plain": [
       "['data/processed/processed_recs10.csv',\n",
       " 'data/processed/processed_recs11.csv',\n",
       " 'data/processed/processed_recs13.csv',\n",
       " 'data/processed/processed_recs14.csv',\n",
       " 'data/processed/processed_recs15.csv',\n",
       " 'data/processed/processed_recs17.csv',\n",
       " 'data/processed/processed_recs2.csv',\n",
       " 'data/processed/processed_recs4.csv',\n",
       " 'data/processed/processed_recs5.csv',\n",
       " 'data/processed/processed_recs6.csv',\n",
       " 'data/processed/processed_recs7.csv',\n",
       " 'data/processed/processed_recs8.csv',\n",
       " 'data/processed/processed_recs9.csv']"
      ]
     },
     "execution_count": 20,
     "metadata": {},
     "output_type": "execute_result"
    }
   ],
   "source": [
    "df_list = []\n",
    "\n",
    "for i in range(0,len(files)):\n",
    "    files[i] = \"data/processed/\" + files[i]\n",
    "    #print i\n",
    "\n",
    "files"
   ]
  },
  {
   "cell_type": "code",
   "execution_count": 21,
   "metadata": {},
   "outputs": [
    {
     "data": {
      "text/plain": [
       "6501"
      ]
     },
     "execution_count": 21,
     "metadata": {},
     "output_type": "execute_result"
    }
   ],
   "source": [
    "for f in files:\n",
    "    data = pd.read_csv(f)\n",
    "    df = pd.DataFrame(data)\n",
    "    df_list.append(df)\n"
   ]
  },
  {
   "cell_type": "code",
   "execution_count": 32,
   "metadata": {},
   "outputs": [
    {
     "data": {
      "text/plain": [
       "6501"
      ]
     },
     "execution_count": 32,
     "metadata": {},
     "output_type": "execute_result"
    }
   ],
   "source": [
    "df = pd.concat(df_list)\n",
    "len(df)"
   ]
  },
  {
   "cell_type": "code",
   "execution_count": 34,
   "metadata": {},
   "outputs": [
    {
     "data": {
      "text/plain": [
       "pandas.core.frame.DataFrame"
      ]
     },
     "execution_count": 34,
     "metadata": {},
     "output_type": "execute_result"
    }
   ],
   "source": [
    "df = df.dropna(axis=1, how=\"all\")\n",
    "type(df)"
   ]
  },
  {
   "cell_type": "code",
   "execution_count": 35,
   "metadata": {},
   "outputs": [
    {
     "data": {
      "text/plain": [
       "6501"
      ]
     },
     "execution_count": 35,
     "metadata": {},
     "output_type": "execute_result"
    }
   ],
   "source": [
    "len(df)"
   ]
  },
  {
   "cell_type": "code",
   "execution_count": 36,
   "metadata": {},
   "outputs": [
    {
     "data": {
      "text/plain": [
       "(6501, 56)"
      ]
     },
     "execution_count": 36,
     "metadata": {},
     "output_type": "execute_result"
    }
   ],
   "source": [
    "df.shape"
   ]
  },
  {
   "cell_type": "code",
   "execution_count": 37,
   "metadata": {},
   "outputs": [
    {
     "data": {
      "text/html": [
       "<div>\n",
       "<style>\n",
       "    .dataframe thead tr:only-child th {\n",
       "        text-align: right;\n",
       "    }\n",
       "\n",
       "    .dataframe thead th {\n",
       "        text-align: left;\n",
       "    }\n",
       "\n",
       "    .dataframe tbody tr th {\n",
       "        vertical-align: top;\n",
       "    }\n",
       "</style>\n",
       "<table border=\"1\" class=\"dataframe\">\n",
       "  <thead>\n",
       "    <tr style=\"text-align: right;\">\n",
       "      <th></th>\n",
       "      <th>AB</th>\n",
       "      <th>AF</th>\n",
       "      <th>AU</th>\n",
       "      <th>BP</th>\n",
       "      <th>C1</th>\n",
       "      <th>CA</th>\n",
       "      <th>CR</th>\n",
       "      <th>DA</th>\n",
       "      <th>DE</th>\n",
       "      <th>DI</th>\n",
       "      <th>...</th>\n",
       "      <th>VL</th>\n",
       "      <th>WC</th>\n",
       "      <th>Z9</th>\n",
       "      <th>c_fname</th>\n",
       "      <th>c_lname</th>\n",
       "      <th>citedby</th>\n",
       "      <th>count</th>\n",
       "      <th>gender</th>\n",
       "      <th>probability</th>\n",
       "      <th>scholar_id</th>\n",
       "    </tr>\n",
       "  </thead>\n",
       "  <tbody>\n",
       "    <tr>\n",
       "      <th>0</th>\n",
       "      <td>The El Nino/Southern Oscillation (ENSO) system...</td>\n",
       "      <td>Watanabe, Tsuyoshi; Suzuki, Atsushi; Minobe, S...</td>\n",
       "      <td>Watanabe, T; Suzuki, A; Minobe, S; Kawashima, ...</td>\n",
       "      <td>209</td>\n",
       "      <td>[Watanabe, Tsuyoshi; Minobe, Shoshiro; Kawashi...</td>\n",
       "      <td>NaN</td>\n",
       "      <td>NaN</td>\n",
       "      <td>11/20/17</td>\n",
       "      <td>NaN</td>\n",
       "      <td>10.1038/nature09777</td>\n",
       "      <td>...</td>\n",
       "      <td>471</td>\n",
       "      <td>Multidisciplinary Sciences</td>\n",
       "      <td>62</td>\n",
       "      <td>tomoki</td>\n",
       "      <td>kase</td>\n",
       "      <td>1578</td>\n",
       "      <td>4</td>\n",
       "      <td>male</td>\n",
       "      <td>1</td>\n",
       "      <td>hWANX-AAAAAJ</td>\n",
       "    </tr>\n",
       "    <tr>\n",
       "      <th>1</th>\n",
       "      <td>Humans differ from other animals in many aspec...</td>\n",
       "      <td>McLean, Cory Y.; Reno, Philip L.; Pollen, Alex...</td>\n",
       "      <td>McLean, CY; Reno, PL; Pollen, AA; Bassan, AI; ...</td>\n",
       "      <td>216</td>\n",
       "      <td>[McLean, Cory Y.; Wenger, Aaron M.; Bejerano, ...</td>\n",
       "      <td>NaN</td>\n",
       "      <td>NaN</td>\n",
       "      <td>11/20/17</td>\n",
       "      <td>NaN</td>\n",
       "      <td>10.1038/nature09774</td>\n",
       "      <td>...</td>\n",
       "      <td>471</td>\n",
       "      <td>Multidisciplinary Sciences</td>\n",
       "      <td>184</td>\n",
       "      <td>david m.</td>\n",
       "      <td>kingsley</td>\n",
       "      <td>na</td>\n",
       "      <td>1</td>\n",
       "      <td>male</td>\n",
       "      <td>1</td>\n",
       "      <td>na</td>\n",
       "    </tr>\n",
       "    <tr>\n",
       "      <th>2</th>\n",
       "      <td>Under physiological conditions the gut-associa...</td>\n",
       "      <td>DePaolo, R. W.; Abadie, V.; Tang, F.; Fehlner-...</td>\n",
       "      <td>DePaolo, RW; Abadie, V; Tang, F; Fehlner-Peach...</td>\n",
       "      <td>220</td>\n",
       "      <td>[DePaolo, R. W.; Abadie, V.; Tang, F.; Fehlner...</td>\n",
       "      <td>NaN</td>\n",
       "      <td>NaN</td>\n",
       "      <td>11/20/17</td>\n",
       "      <td>NaN</td>\n",
       "      <td>10.1038/nature09849</td>\n",
       "      <td>...</td>\n",
       "      <td>471</td>\n",
       "      <td>Multidisciplinary Sciences</td>\n",
       "      <td>201</td>\n",
       "      <td>b.</td>\n",
       "      <td>jabri</td>\n",
       "      <td>na</td>\n",
       "      <td>na</td>\n",
       "      <td>na</td>\n",
       "      <td>na</td>\n",
       "      <td>na</td>\n",
       "    </tr>\n",
       "    <tr>\n",
       "      <th>3</th>\n",
       "      <td>The ability to generate patient-specific human...</td>\n",
       "      <td>Itzhaki, Ilanit; Maizels, Leonid; Huber, Irit;...</td>\n",
       "      <td>Itzhaki, I; Maizels, L; Huber, I; Zwi-Dantsis,...</td>\n",
       "      <td>225</td>\n",
       "      <td>[Itzhaki, Ilanit; Maizels, Leonid; Huber, Irit...</td>\n",
       "      <td>NaN</td>\n",
       "      <td>NaN</td>\n",
       "      <td>11/20/17</td>\n",
       "      <td>NaN</td>\n",
       "      <td>10.1038/nature09747</td>\n",
       "      <td>...</td>\n",
       "      <td>471</td>\n",
       "      <td>Multidisciplinary Sciences</td>\n",
       "      <td>477</td>\n",
       "      <td>lior</td>\n",
       "      <td>gepstein</td>\n",
       "      <td>na</td>\n",
       "      <td>85</td>\n",
       "      <td>male</td>\n",
       "      <td>0.61</td>\n",
       "      <td>na</td>\n",
       "    </tr>\n",
       "    <tr>\n",
       "      <th>4</th>\n",
       "      <td>Individuals with congenital or acquired prolon...</td>\n",
       "      <td>Yazawa, Masayuki; Hsueh, Brian; Jia, Xiaolin; ...</td>\n",
       "      <td>Yazawa, M; Hsueh, B; Jia, XL; Pasca, AM; Berns...</td>\n",
       "      <td>230</td>\n",
       "      <td>[Yazawa, Masayuki; Hsueh, Brian; Jia, Xiaolin;...</td>\n",
       "      <td>NaN</td>\n",
       "      <td>NaN</td>\n",
       "      <td>11/20/17</td>\n",
       "      <td>NaN</td>\n",
       "      <td>10.1038/nature09855</td>\n",
       "      <td>...</td>\n",
       "      <td>471</td>\n",
       "      <td>Multidisciplinary Sciences</td>\n",
       "      <td>322</td>\n",
       "      <td>ricardo e.</td>\n",
       "      <td>dolmetsch</td>\n",
       "      <td>na</td>\n",
       "      <td>na</td>\n",
       "      <td>na</td>\n",
       "      <td>na</td>\n",
       "      <td>na</td>\n",
       "    </tr>\n",
       "  </tbody>\n",
       "</table>\n",
       "<p>5 rows × 56 columns</p>\n",
       "</div>"
      ],
      "text/plain": [
       "                                                  AB  \\\n",
       "0  The El Nino/Southern Oscillation (ENSO) system...   \n",
       "1  Humans differ from other animals in many aspec...   \n",
       "2  Under physiological conditions the gut-associa...   \n",
       "3  The ability to generate patient-specific human...   \n",
       "4  Individuals with congenital or acquired prolon...   \n",
       "\n",
       "                                                  AF  \\\n",
       "0  Watanabe, Tsuyoshi; Suzuki, Atsushi; Minobe, S...   \n",
       "1  McLean, Cory Y.; Reno, Philip L.; Pollen, Alex...   \n",
       "2  DePaolo, R. W.; Abadie, V.; Tang, F.; Fehlner-...   \n",
       "3  Itzhaki, Ilanit; Maizels, Leonid; Huber, Irit;...   \n",
       "4  Yazawa, Masayuki; Hsueh, Brian; Jia, Xiaolin; ...   \n",
       "\n",
       "                                                  AU   BP  \\\n",
       "0  Watanabe, T; Suzuki, A; Minobe, S; Kawashima, ...  209   \n",
       "1  McLean, CY; Reno, PL; Pollen, AA; Bassan, AI; ...  216   \n",
       "2  DePaolo, RW; Abadie, V; Tang, F; Fehlner-Peach...  220   \n",
       "3  Itzhaki, I; Maizels, L; Huber, I; Zwi-Dantsis,...  225   \n",
       "4  Yazawa, M; Hsueh, B; Jia, XL; Pasca, AM; Berns...  230   \n",
       "\n",
       "                                                  C1   CA   CR        DA   DE  \\\n",
       "0  [Watanabe, Tsuyoshi; Minobe, Shoshiro; Kawashi...  NaN  NaN  11/20/17  NaN   \n",
       "1  [McLean, Cory Y.; Wenger, Aaron M.; Bejerano, ...  NaN  NaN  11/20/17  NaN   \n",
       "2  [DePaolo, R. W.; Abadie, V.; Tang, F.; Fehlner...  NaN  NaN  11/20/17  NaN   \n",
       "3  [Itzhaki, Ilanit; Maizels, Leonid; Huber, Irit...  NaN  NaN  11/20/17  NaN   \n",
       "4  [Yazawa, Masayuki; Hsueh, Brian; Jia, Xiaolin;...  NaN  NaN  11/20/17  NaN   \n",
       "\n",
       "                    DI      ...        VL                          WC   Z9  \\\n",
       "0  10.1038/nature09777      ...       471  Multidisciplinary Sciences   62   \n",
       "1  10.1038/nature09774      ...       471  Multidisciplinary Sciences  184   \n",
       "2  10.1038/nature09849      ...       471  Multidisciplinary Sciences  201   \n",
       "3  10.1038/nature09747      ...       471  Multidisciplinary Sciences  477   \n",
       "4  10.1038/nature09855      ...       471  Multidisciplinary Sciences  322   \n",
       "\n",
       "      c_fname    c_lname citedby count gender probability    scholar_id  \n",
       "0      tomoki       kase    1578     4   male           1  hWANX-AAAAAJ  \n",
       "1    david m.   kingsley      na     1   male           1            na  \n",
       "2          b.      jabri      na    na     na          na            na  \n",
       "3        lior   gepstein      na    85   male        0.61            na  \n",
       "4  ricardo e.  dolmetsch      na    na     na          na            na  \n",
       "\n",
       "[5 rows x 56 columns]"
      ]
     },
     "execution_count": 37,
     "metadata": {},
     "output_type": "execute_result"
    }
   ],
   "source": [
    "df.head()"
   ]
  },
  {
   "cell_type": "code",
   "execution_count": 38,
   "metadata": {
    "collapsed": true
   },
   "outputs": [],
   "source": [
    "df.to_csv(\"data/cleaned_no_tmp.csv\")"
   ]
  },
  {
   "cell_type": "code",
   "execution_count": null,
   "metadata": {
    "collapsed": true
   },
   "outputs": [],
   "source": []
  }
 ],
 "metadata": {
  "kernelspec": {
   "display_name": "Python 2",
   "language": "python",
   "name": "python2"
  },
  "language_info": {
   "codemirror_mode": {
    "name": "ipython",
    "version": 2
   },
   "file_extension": ".py",
   "mimetype": "text/x-python",
   "name": "python",
   "nbconvert_exporter": "python",
   "pygments_lexer": "ipython2",
   "version": "2.7.10"
  }
 },
 "nbformat": 4,
 "nbformat_minor": 2
}
